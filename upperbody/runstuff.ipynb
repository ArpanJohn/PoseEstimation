{
 "cells": [
  {
   "cell_type": "code",
   "execution_count": 8,
   "metadata": {},
   "outputs": [
    {
     "name": "stdout",
     "output_type": "stream",
     "text": [
      "['E:\\\\arpan_recs\\\\dataset\\\\21-07_fma1', 'E:\\\\arpan_recs\\\\dataset\\\\21-07_fma2', 'E:\\\\arpan_recs\\\\dataset\\\\21-07_fma3', 'E:\\\\arpan_recs\\\\dataset\\\\21-07_fma4', 'E:\\\\arpan_recs\\\\dataset\\\\21-07_fma5', 'E:\\\\arpan_recs\\\\dataset\\\\21-07_tt1', 'E:\\\\arpan_recs\\\\dataset\\\\21-07_tt2', 'E:\\\\arpan_recs\\\\dataset\\\\21-07_tt3', 'E:\\\\arpan_recs\\\\dataset\\\\21-07_tt4', 'E:\\\\arpan_recs\\\\dataset\\\\21-07_tt5']\n"
     ]
    }
   ],
   "source": [
    "import os\n",
    "import json\n",
    "import nbconvert\n",
    "import nbformat\n",
    "import subprocess\n",
    "\n",
    "current_directory = os.getcwd()\n",
    "with open(\"C:\\\\Users\\\\CMC\\\\Downloads\\\\PoseEstimation\\\\rec_program\\\\savdir_path.json\") as json_file:\n",
    "    data = json.load(json_file)\n",
    "    # Access the directory path\n",
    "    pth = data['directory_path']\n",
    "\n",
    "def get_folders_in_directory(directory_path):\n",
    "    folders = [folder for folder in os.listdir(directory_path) if os.path.isdir(os.path.join(directory_path, folder))]\n",
    "    return folders\n",
    "\n",
    "# Replace \"path/to/your/directory\" with the actual path of the directory you want to scan.\n",
    "directory_path = pth\n",
    "\n",
    "folders_list = get_folders_in_directory(directory_path)\n",
    "folders_list = [pth+\"\\\\\"+string for string in folders_list if string.startswith('21-07')]\n",
    "print(folders_list)"
   ]
  },
  {
   "cell_type": "code",
   "execution_count": 9,
   "metadata": {},
   "outputs": [
    {
     "name": "stdout",
     "output_type": "stream",
     "text": [
      "running msg_to_mpipe_from_point.py on21-07_fma1\n"
     ]
    },
    {
     "ename": "AttributeError",
     "evalue": "'dict' object has no attribute 'split'",
     "output_type": "error",
     "traceback": [
      "\u001b[1;31m---------------------------------------------------------------------------\u001b[0m",
      "\u001b[1;31mAttributeError\u001b[0m                            Traceback (most recent call last)",
      "\u001b[1;32m~\\AppData\\Local\\Temp\\ipykernel_21420\\4020060074.py\u001b[0m in \u001b[0;36m<module>\u001b[1;34m\u001b[0m\n\u001b[0;32m     17\u001b[0m \u001b[1;33m\u001b[0m\u001b[0m\n\u001b[0;32m     18\u001b[0m     \u001b[0mnotebook_filename\u001b[0m \u001b[1;33m=\u001b[0m \u001b[1;34m\"C:\\\\Users\\\\CMC\\\\Downloads\\\\PoseEstimation\\\\upperbody\\\\5.Euler angles interpolated.ipynb\"\u001b[0m\u001b[1;33m\u001b[0m\u001b[1;33m\u001b[0m\u001b[0m\n\u001b[1;32m---> 19\u001b[1;33m     \u001b[0mprint\u001b[0m\u001b[1;33m(\u001b[0m\u001b[1;34m'running '\u001b[0m\u001b[1;33m+\u001b[0m \u001b[0mnotebook_filename\u001b[0m\u001b[1;33m.\u001b[0m\u001b[0msplit\u001b[0m\u001b[1;33m(\u001b[0m\u001b[1;34m\"\\\\\"\u001b[0m\u001b[1;33m)\u001b[0m\u001b[1;33m[\u001b[0m\u001b[1;33m-\u001b[0m\u001b[1;36m1\u001b[0m\u001b[1;33m]\u001b[0m \u001b[1;33m+\u001b[0m \u001b[1;34m\" on\"\u001b[0m \u001b[1;33m+\u001b[0m \u001b[0mdata\u001b[0m\u001b[1;33m.\u001b[0m\u001b[0msplit\u001b[0m\u001b[1;33m(\u001b[0m\u001b[1;34m\"\\\\\"\u001b[0m\u001b[1;33m)\u001b[0m\u001b[1;33m[\u001b[0m\u001b[1;33m-\u001b[0m\u001b[1;36m1\u001b[0m\u001b[1;33m]\u001b[0m\u001b[1;33m)\u001b[0m\u001b[1;33m\u001b[0m\u001b[1;33m\u001b[0m\u001b[0m\n\u001b[0m\u001b[0;32m     20\u001b[0m     \u001b[1;31m# Execute the notebook and save the output\u001b[0m\u001b[1;33m\u001b[0m\u001b[1;33m\u001b[0m\u001b[1;33m\u001b[0m\u001b[0m\n\u001b[0;32m     21\u001b[0m     \u001b[1;32mwith\u001b[0m \u001b[0mopen\u001b[0m\u001b[1;33m(\u001b[0m\u001b[0mnotebook_filename\u001b[0m\u001b[1;33m)\u001b[0m \u001b[1;32mas\u001b[0m \u001b[0mf\u001b[0m\u001b[1;33m:\u001b[0m\u001b[1;33m\u001b[0m\u001b[1;33m\u001b[0m\u001b[0m\n",
      "\u001b[1;31mAttributeError\u001b[0m: 'dict' object has no attribute 'split'"
     ]
    }
   ],
   "source": [
    "# write_to_json.py\n",
    "\n",
    "for SessDir in folders_list:\n",
    "    data = {\n",
    "            \"directory\": SessDir\n",
    "            }\n",
    "    # Read the JSON file containing the Session Directory\n",
    "    with open(current_directory+'\\\\SessionDirectory.json', 'w') as file:\n",
    "        json.dump(data, file)\n",
    "\n",
    "    # run_python_script.py\n",
    "    script_filename = \"C:\\\\Users\\\\CMC\\\\Downloads\\\\PoseEstimation\\\\upperbody\\\\msg_to_mpipe_from_point.py\"\n",
    "    print('running '+ script_filename.split(\"\\\\\")[-1] + \" on\" + data[\"directory\"].split(\"\\\\\")[-1])\n",
    "    subprocess.run([\"python\", script_filename])\n",
    "\n",
    "    # run_notebook.py\n",
    "\n",
    "    notebook_filename = \"C:\\\\Users\\\\CMC\\\\Downloads\\\\PoseEstimation\\\\upperbody\\\\5.Euler angles interpolated.ipynb\"\n",
    "    print('running '+ notebook_filename.split(\"\\\\\")[-1] + \" on\" + data[\"directory\"].split(\"\\\\\")[-1])\n",
    "    # Execute the notebook and save the output\n",
    "    with open(notebook_filename) as f:\n",
    "        nb = nbformat.read(f, as_version=4)\n",
    "        nbconvert.preprocessors.execute.ExecutePreprocessor(timeout=600).preprocess(nb)\n",
    "\n",
    "    notebook_filename = \"C:\\\\Users\\\\CMC\\\\Downloads\\\\PoseEstimation\\\\upperbody\\\\more_graphs.ipynb\"\n",
    "    print('running '+ notebook_filename.split(\"\\\\\")[-1] + \" on\" + data[\"directory\"].split(\"\\\\\")[-1])\n",
    "    # Execute the notebook and save the output\n",
    "    with open(notebook_filename) as f:\n",
    "        nb = nbformat.read(f, as_version=4)\n",
    "        nbconvert.preprocessors.execute.ExecutePreprocessor(timeout=600).preprocess(nb)\n",
    "\n"
   ]
  }
 ],
 "metadata": {
  "kernelspec": {
   "display_name": "gs",
   "language": "python",
   "name": "python3"
  },
  "language_info": {
   "codemirror_mode": {
    "name": "ipython",
    "version": 3
   },
   "file_extension": ".py",
   "mimetype": "text/x-python",
   "name": "python",
   "nbconvert_exporter": "python",
   "pygments_lexer": "ipython3",
   "version": "3.7.13"
  },
  "orig_nbformat": 4
 },
 "nbformat": 4,
 "nbformat_minor": 2
}
